{
 "cells": [
  {
   "cell_type": "markdown",
   "id": "4c8882b5-f6ec-469c-b8f0-d37f59b791aa",
   "metadata": {},
   "source": [
    "# SI 330 - Homework #3: Text Processing\n",
    "\n",
    "In ways that we still have yet to fully comprehend, the 2016 presidential election changed the fate of US history. Underdog Donald J Trump shocked the world, upsetting frontrunner Hilary Clinton. Clinton and many others have gone on record saying they believe the  \"email controversy\", which became a major point of contention just days before the election, contributed mightily to her defeat. \n",
    "\n",
    "On March 16, 2016 WikiLeaks launched a searchable archive for over 30 thousand emails & email attachments sent to and from Hillary Clinton's private email server while she was Secretary of State. The 50,547 pages of documents span from 30 June 2010 to 12 August 2014. 7,570 of the documents were sent by Hillary Clinton. The emails were made available in the form of thousands of PDFs by the US State Department as a result of a Freedom of Information Act request. More PDFs were made available on February 29, 2016, and a set of additional 995 emails was imported up to February 2, 2018.\n",
    "\n",
    "In July 2016, FBI Director James Comey stated that the bureau did not recommend charges against Hilary after thoroughly investigating her emails, but then out of the blue 11 days before the election, Comey reopened the investigation based on new emails. This sent the media into a frenzy. Part of the controversy was surrounding whether or not classified emails sent on the private server were a national security breach. The FBI eventually deemed Clinton's new emails harmless just 2 days before the election.\n",
    "\n",
    "The original dataset is available via https://wikileaks.org/clinton-emails/ and a more usable format of it is available via https://github.com/Mithileysh/Email-Datasets/tree/master/Hillary%20Clinton%20Datasets.  The data provided for this assignment are from the latter site.\n",
    "\n",
    "As in previous homework assignments, 5 points are allocated to conforming to PEP-8 code style guidelines, and 5 points are allocated to spelling, punctuation, grammar, and following the submission guidelines.  The remaining 40 points are distributed as shown below.\n",
    "\n",
    "We recommend you spend some time familiarizing yourself with the dataset.  In particular, you should strive to understand the relationships between the different CSV files and the location of different pieces of information."
   ]
  },
  {
   "cell_type": "markdown",
   "id": "b3fdc00d-0658-4871-bc06-7780286ccdab",
   "metadata": {},
   "source": [
    "## Name: Ryan Berger "
   ]
  },
  {
   "cell_type": "code",
   "execution_count": 69,
   "id": "78c03be8-b058-4fab-8f1d-7cb49ea6653f",
   "metadata": {},
   "outputs": [],
   "source": [
    "import pandas as pd\n",
    "import numpy as np\n",
    "import re\n",
    "import nltk\n",
    "import matplotlib.pyplot as plt"
   ]
  },
  {
   "cell_type": "code",
   "execution_count": 70,
   "id": "ecb634ef-64f6-4398-b214-204f1e1643ab",
   "metadata": {},
   "outputs": [],
   "source": [
    "emails = pd.read_csv('Hillary Clinton Datasets/Emails.csv')"
   ]
  },
  {
   "cell_type": "code",
   "execution_count": 71,
   "id": "ee74c471-c3e6-416c-a9db-2bfa45dbedf0",
   "metadata": {
    "tags": []
   },
   "outputs": [
    {
     "data": {
      "text/html": [
       "<div>\n",
       "<style scoped>\n",
       "    .dataframe tbody tr th:only-of-type {\n",
       "        vertical-align: middle;\n",
       "    }\n",
       "\n",
       "    .dataframe tbody tr th {\n",
       "        vertical-align: top;\n",
       "    }\n",
       "\n",
       "    .dataframe thead th {\n",
       "        text-align: right;\n",
       "    }\n",
       "</style>\n",
       "<table border=\"1\" class=\"dataframe\">\n",
       "  <thead>\n",
       "    <tr style=\"text-align: right;\">\n",
       "      <th></th>\n",
       "      <th>Id</th>\n",
       "      <th>DocNumber</th>\n",
       "      <th>MetadataSubject</th>\n",
       "      <th>MetadataTo</th>\n",
       "      <th>MetadataFrom</th>\n",
       "      <th>SenderPersonId</th>\n",
       "      <th>MetadataDateSent</th>\n",
       "      <th>MetadataDateReleased</th>\n",
       "      <th>MetadataPdfLink</th>\n",
       "      <th>MetadataCaseNumber</th>\n",
       "      <th>...</th>\n",
       "      <th>ExtractedTo</th>\n",
       "      <th>ExtractedFrom</th>\n",
       "      <th>ExtractedCc</th>\n",
       "      <th>ExtractedDateSent</th>\n",
       "      <th>ExtractedCaseNumber</th>\n",
       "      <th>ExtractedDocNumber</th>\n",
       "      <th>ExtractedDateReleased</th>\n",
       "      <th>ExtractedReleaseInPartOrFull</th>\n",
       "      <th>ExtractedBodyText</th>\n",
       "      <th>RawText</th>\n",
       "    </tr>\n",
       "  </thead>\n",
       "  <tbody>\n",
       "    <tr>\n",
       "      <th>0</th>\n",
       "      <td>1</td>\n",
       "      <td>C05739545</td>\n",
       "      <td>WOW</td>\n",
       "      <td>H</td>\n",
       "      <td>Sullivan, Jacob J</td>\n",
       "      <td>87.0</td>\n",
       "      <td>2012-09-12T04:00:00+00:00</td>\n",
       "      <td>2015-05-22T04:00:00+00:00</td>\n",
       "      <td>DOCUMENTS/HRC_Email_1_296/HRCH2/DOC_0C05739545...</td>\n",
       "      <td>F-2015-04841</td>\n",
       "      <td>...</td>\n",
       "      <td>NaN</td>\n",
       "      <td>Sullivan, Jacob J &lt;Sullivan11@state.gov&gt;</td>\n",
       "      <td>NaN</td>\n",
       "      <td>Wednesday, September 12, 2012 10:16 AM</td>\n",
       "      <td>F-2015-04841</td>\n",
       "      <td>C05739545</td>\n",
       "      <td>05/13/2015</td>\n",
       "      <td>RELEASE IN FULL</td>\n",
       "      <td>NaN</td>\n",
       "      <td>UNCLASSIFIED\\nU.S. Department of State\\nCase N...</td>\n",
       "    </tr>\n",
       "    <tr>\n",
       "      <th>1</th>\n",
       "      <td>2</td>\n",
       "      <td>C05739546</td>\n",
       "      <td>H: LATEST: HOW SYRIA IS AIDING QADDAFI AND MOR...</td>\n",
       "      <td>H</td>\n",
       "      <td>NaN</td>\n",
       "      <td>NaN</td>\n",
       "      <td>2011-03-03T05:00:00+00:00</td>\n",
       "      <td>2015-05-22T04:00:00+00:00</td>\n",
       "      <td>DOCUMENTS/HRC_Email_1_296/HRCH1/DOC_0C05739546...</td>\n",
       "      <td>F-2015-04841</td>\n",
       "      <td>...</td>\n",
       "      <td>NaN</td>\n",
       "      <td>NaN</td>\n",
       "      <td>NaN</td>\n",
       "      <td>NaN</td>\n",
       "      <td>F-2015-04841</td>\n",
       "      <td>C05739546</td>\n",
       "      <td>05/13/2015</td>\n",
       "      <td>RELEASE IN PART</td>\n",
       "      <td>B6\\nThursday, March 3, 2011 9:45 PM\\nH: Latest...</td>\n",
       "      <td>UNCLASSIFIED\\nU.S. Department of State\\nCase N...</td>\n",
       "    </tr>\n",
       "    <tr>\n",
       "      <th>2</th>\n",
       "      <td>3</td>\n",
       "      <td>C05739547</td>\n",
       "      <td>CHRIS STEVENS</td>\n",
       "      <td>;H</td>\n",
       "      <td>Mills, Cheryl D</td>\n",
       "      <td>32.0</td>\n",
       "      <td>2012-09-12T04:00:00+00:00</td>\n",
       "      <td>2015-05-22T04:00:00+00:00</td>\n",
       "      <td>DOCUMENTS/HRC_Email_1_296/HRCH2/DOC_0C05739547...</td>\n",
       "      <td>F-2015-04841</td>\n",
       "      <td>...</td>\n",
       "      <td>B6</td>\n",
       "      <td>Mills, Cheryl D &lt;MillsCD@state.gov&gt;</td>\n",
       "      <td>Abedin, Huma</td>\n",
       "      <td>Wednesday, September 12, 2012 11:52 AM</td>\n",
       "      <td>F-2015-04841</td>\n",
       "      <td>C05739547</td>\n",
       "      <td>05/14/2015</td>\n",
       "      <td>RELEASE IN PART</td>\n",
       "      <td>Thx</td>\n",
       "      <td>UNCLASSIFIED\\nU.S. Department of State\\nCase N...</td>\n",
       "    </tr>\n",
       "    <tr>\n",
       "      <th>3</th>\n",
       "      <td>4</td>\n",
       "      <td>C05739550</td>\n",
       "      <td>CAIRO CONDEMNATION - FINAL</td>\n",
       "      <td>H</td>\n",
       "      <td>Mills, Cheryl D</td>\n",
       "      <td>32.0</td>\n",
       "      <td>2012-09-12T04:00:00+00:00</td>\n",
       "      <td>2015-05-22T04:00:00+00:00</td>\n",
       "      <td>DOCUMENTS/HRC_Email_1_296/HRCH2/DOC_0C05739550...</td>\n",
       "      <td>F-2015-04841</td>\n",
       "      <td>...</td>\n",
       "      <td>NaN</td>\n",
       "      <td>Mills, Cheryl D &lt;MillsCD@state.gov&gt;</td>\n",
       "      <td>Mitchell, Andrew B</td>\n",
       "      <td>Wednesday, September 12,2012 12:44 PM</td>\n",
       "      <td>F-2015-04841</td>\n",
       "      <td>C05739550</td>\n",
       "      <td>05/13/2015</td>\n",
       "      <td>RELEASE IN PART</td>\n",
       "      <td>NaN</td>\n",
       "      <td>UNCLASSIFIED\\nU.S. Department of State\\nCase N...</td>\n",
       "    </tr>\n",
       "    <tr>\n",
       "      <th>4</th>\n",
       "      <td>5</td>\n",
       "      <td>C05739554</td>\n",
       "      <td>H: LATEST: HOW SYRIA IS AIDING QADDAFI AND MOR...</td>\n",
       "      <td>Abedin, Huma</td>\n",
       "      <td>H</td>\n",
       "      <td>80.0</td>\n",
       "      <td>2011-03-11T05:00:00+00:00</td>\n",
       "      <td>2015-05-22T04:00:00+00:00</td>\n",
       "      <td>DOCUMENTS/HRC_Email_1_296/HRCH1/DOC_0C05739554...</td>\n",
       "      <td>F-2015-04841</td>\n",
       "      <td>...</td>\n",
       "      <td>NaN</td>\n",
       "      <td>NaN</td>\n",
       "      <td>NaN</td>\n",
       "      <td>NaN</td>\n",
       "      <td>F-2015-04841</td>\n",
       "      <td>C05739554</td>\n",
       "      <td>05/13/2015</td>\n",
       "      <td>RELEASE IN PART</td>\n",
       "      <td>H &lt;hrod17@clintonemail.com&gt;\\nFriday, March 11,...</td>\n",
       "      <td>B6\\nUNCLASSIFIED\\nU.S. Department of State\\nCa...</td>\n",
       "    </tr>\n",
       "  </tbody>\n",
       "</table>\n",
       "<p>5 rows × 22 columns</p>\n",
       "</div>"
      ],
      "text/plain": [
       "   Id  DocNumber                                    MetadataSubject  \\\n",
       "0   1  C05739545                                                WOW   \n",
       "1   2  C05739546  H: LATEST: HOW SYRIA IS AIDING QADDAFI AND MOR...   \n",
       "2   3  C05739547                                      CHRIS STEVENS   \n",
       "3   4  C05739550                         CAIRO CONDEMNATION - FINAL   \n",
       "4   5  C05739554  H: LATEST: HOW SYRIA IS AIDING QADDAFI AND MOR...   \n",
       "\n",
       "     MetadataTo       MetadataFrom  SenderPersonId           MetadataDateSent  \\\n",
       "0             H  Sullivan, Jacob J            87.0  2012-09-12T04:00:00+00:00   \n",
       "1             H                NaN             NaN  2011-03-03T05:00:00+00:00   \n",
       "2            ;H    Mills, Cheryl D            32.0  2012-09-12T04:00:00+00:00   \n",
       "3             H    Mills, Cheryl D            32.0  2012-09-12T04:00:00+00:00   \n",
       "4  Abedin, Huma                  H            80.0  2011-03-11T05:00:00+00:00   \n",
       "\n",
       "        MetadataDateReleased  \\\n",
       "0  2015-05-22T04:00:00+00:00   \n",
       "1  2015-05-22T04:00:00+00:00   \n",
       "2  2015-05-22T04:00:00+00:00   \n",
       "3  2015-05-22T04:00:00+00:00   \n",
       "4  2015-05-22T04:00:00+00:00   \n",
       "\n",
       "                                     MetadataPdfLink MetadataCaseNumber  ...  \\\n",
       "0  DOCUMENTS/HRC_Email_1_296/HRCH2/DOC_0C05739545...       F-2015-04841  ...   \n",
       "1  DOCUMENTS/HRC_Email_1_296/HRCH1/DOC_0C05739546...       F-2015-04841  ...   \n",
       "2  DOCUMENTS/HRC_Email_1_296/HRCH2/DOC_0C05739547...       F-2015-04841  ...   \n",
       "3  DOCUMENTS/HRC_Email_1_296/HRCH2/DOC_0C05739550...       F-2015-04841  ...   \n",
       "4  DOCUMENTS/HRC_Email_1_296/HRCH1/DOC_0C05739554...       F-2015-04841  ...   \n",
       "\n",
       "  ExtractedTo                             ExtractedFrom         ExtractedCc  \\\n",
       "0         NaN  Sullivan, Jacob J <Sullivan11@state.gov>                 NaN   \n",
       "1         NaN                                       NaN                 NaN   \n",
       "2          B6       Mills, Cheryl D <MillsCD@state.gov>        Abedin, Huma   \n",
       "3         NaN       Mills, Cheryl D <MillsCD@state.gov>  Mitchell, Andrew B   \n",
       "4         NaN                                       NaN                 NaN   \n",
       "\n",
       "                        ExtractedDateSent ExtractedCaseNumber  \\\n",
       "0  Wednesday, September 12, 2012 10:16 AM        F-2015-04841   \n",
       "1                                     NaN        F-2015-04841   \n",
       "2  Wednesday, September 12, 2012 11:52 AM        F-2015-04841   \n",
       "3   Wednesday, September 12,2012 12:44 PM        F-2015-04841   \n",
       "4                                     NaN        F-2015-04841   \n",
       "\n",
       "  ExtractedDocNumber ExtractedDateReleased ExtractedReleaseInPartOrFull  \\\n",
       "0          C05739545            05/13/2015              RELEASE IN FULL   \n",
       "1          C05739546            05/13/2015              RELEASE IN PART   \n",
       "2          C05739547            05/14/2015              RELEASE IN PART   \n",
       "3          C05739550            05/13/2015              RELEASE IN PART   \n",
       "4          C05739554            05/13/2015              RELEASE IN PART   \n",
       "\n",
       "                                   ExtractedBodyText  \\\n",
       "0                                                NaN   \n",
       "1  B6\\nThursday, March 3, 2011 9:45 PM\\nH: Latest...   \n",
       "2                                                Thx   \n",
       "3                                                NaN   \n",
       "4  H <hrod17@clintonemail.com>\\nFriday, March 11,...   \n",
       "\n",
       "                                             RawText  \n",
       "0  UNCLASSIFIED\\nU.S. Department of State\\nCase N...  \n",
       "1  UNCLASSIFIED\\nU.S. Department of State\\nCase N...  \n",
       "2  UNCLASSIFIED\\nU.S. Department of State\\nCase N...  \n",
       "3  UNCLASSIFIED\\nU.S. Department of State\\nCase N...  \n",
       "4  B6\\nUNCLASSIFIED\\nU.S. Department of State\\nCa...  \n",
       "\n",
       "[5 rows x 22 columns]"
      ]
     },
     "execution_count": 71,
     "metadata": {},
     "output_type": "execute_result"
    }
   ],
   "source": [
    "emails.head()"
   ]
  },
  {
   "cell_type": "code",
   "execution_count": 72,
   "id": "670d5496-635a-4405-b3fc-3c2d207b906d",
   "metadata": {},
   "outputs": [
    {
     "data": {
      "text/plain": [
       "(7945, 22)"
      ]
     },
     "execution_count": 72,
     "metadata": {},
     "output_type": "execute_result"
    }
   ],
   "source": [
    "emails.shape"
   ]
  },
  {
   "cell_type": "code",
   "execution_count": 73,
   "id": "1f4b58c9-f78b-409e-b759-fa797b1b3533",
   "metadata": {},
   "outputs": [
    {
     "data": {
      "text/plain": [
       "'H <hrod17@clintonemail.com>\\nFriday, March 11, 2011 1:36 PM\\nHuma Abedin\\nFw: H: Latest: How Syria is aiding Qaddafi and more... Sid\\nhrc memo syria aiding libya 030311.docx\\nPis print.'"
      ]
     },
     "execution_count": 73,
     "metadata": {},
     "output_type": "execute_result"
    }
   ],
   "source": [
    "emails.ExtractedBodyText.iloc[4]"
   ]
  },
  {
   "cell_type": "markdown",
   "id": "949c3cd7-2efb-44bb-8fa6-d38ef595a896",
   "metadata": {},
   "source": [
    "_____________"
   ]
  },
  {
   "cell_type": "markdown",
   "id": "3eefe807-533f-4cdd-87f7-902d904f294d",
   "metadata": {
    "tags": []
   },
   "source": [
    "### Q1: (2 points)\n",
    "How many email messages did Hillary Clinton send?  How many did she receive?\n",
    "\n",
    "Hint: start by looking up Hillary Clinton's PersonID in the Persons.csv table."
   ]
  },
  {
   "cell_type": "code",
   "execution_count": 171,
   "id": "410c11f7-7bf9-4b05-ad77-17f669ed7f64",
   "metadata": {},
   "outputs": [
    {
     "data": {
      "text/plain": [
       "'Emails sent: 1993'"
      ]
     },
     "metadata": {},
     "output_type": "display_data"
    },
    {
     "data": {
      "text/plain": [
       "'Emails received: 5587'"
      ]
     },
     "metadata": {},
     "output_type": "display_data"
    }
   ],
   "source": [
    "persons = pd.read_csv('Hillary Clinton Datasets/Persons.csv')\n",
    "receivers = pd.read_csv('Hillary Clinton Datasets/EmailReceivers.csv')\n",
    "\n",
    "hillary = persons['Id'].loc[persons['Name'] == 'Hillary Clinton']\n",
    "hillary_id = hillary.iloc[0]\n",
    "\n",
    "hillary_sent = len(emails.loc[emails['SenderPersonId'] == hillary_id])\n",
    "hillary_received = len(receivers.loc[receivers['PersonId'] == hillary_id])\n",
    "\n",
    "display('Emails sent: ' +  str(hillary_sent))\n",
    "display('Emails received: ' + str(hillary_received))"
   ]
  },
  {
   "cell_type": "markdown",
   "id": "d5495338-7288-4692-9231-55ff2ad3fc90",
   "metadata": {},
   "source": [
    "To find the amount of emails that Hillary Clinton sent and received, I first found her ID in the persons dataframe. Then, I used it to find the number of emails she both sent and received by finding the number of emails where her ID is in the 'SenderPersonId' column in the emails dataframe and 'PersonId' in the email receivers dataframe respectively. With this data, I found that Hillary Clinton sent 1993 emails and received 5587 emails."
   ]
  },
  {
   "cell_type": "markdown",
   "id": "63ac1908-c705-4f18-a55a-96582fee8136",
   "metadata": {
    "tags": []
   },
   "source": [
    "### Q2: (2 points)\n",
    "Who sent Hillary Clinton the most email?  List the top three (3) senders and be sure to report all the senders' aliases (see Aliases.csv)."
   ]
  },
  {
   "cell_type": "code",
   "execution_count": 172,
   "id": "3448aa50-10e1-40b1-806c-6f40ee6461d5",
   "metadata": {},
   "outputs": [
    {
     "data": {
      "text/plain": [
       "80    Huma Abedin\n",
       "Name: Name, dtype: object"
      ]
     },
     "metadata": {},
     "output_type": "display_data"
    },
    {
     "data": {
      "text/plain": [
       "150                        abedin huma\n",
       "151                  abedinh@state.gov\n",
       "152                         abein huma\n",
       "153                       abendin huma\n",
       "154                        adedin huma\n",
       "155                        huma abedin\n",
       "156              huma@clintonemail.com\n",
       "157                   abedin@state.gov\n",
       "158                 abendinh@state.gov\n",
       "159                  adedinh@state.gov\n",
       "436                       abeclin huma\n",
       "448                        abedin hume\n",
       "624                       abed in huma\n",
       "645                       abedin hurna\n",
       "646                      abed in hu ma\n",
       "655                       abedin hu ma\n",
       "686                      * abedin huma\n",
       "709    abedin huma eabedinh@state.gov>\n",
       "712              info@mailva.evite.com\n",
       "739                       colby cooper\n",
       "776                         abedinhuma\n",
       "Name: Alias, dtype: object"
      ]
     },
     "metadata": {},
     "output_type": "display_data"
    },
    {
     "data": {
      "text/plain": [
       "31    Cheryl Mills\n",
       "Name: Name, dtype: object"
      ]
     },
     "metadata": {},
     "output_type": "display_data"
    },
    {
     "data": {
      "text/plain": [
       "55                          c:mills cheryl\n",
       "56                            cheryl mills\n",
       "57                        cheryl mills cos\n",
       "58                             mill cheryl\n",
       "59                         mills cherlyl d\n",
       "60                           mills chery d\n",
       "61                            mills cheryl\n",
       "62                          mills cheryl d\n",
       "63                           millscheryl d\n",
       "64                          mills. cherl d\n",
       "65                         mills. cheryl d\n",
       "66                       millscd@state.gov\n",
       "67                            cheryl.mills\n",
       "68                           cheryl.mills@\n",
       "425                         mills cheryl 0\n",
       "438                         milts cheryl 0\n",
       "443                      barton rick (cso)\n",
       "444                        mills cheryl id\n",
       "452                       lvlills cheryl d\n",
       "453    tomlinson christina b3 cia pers/org\n",
       "459                           hemmen chris\n",
       "464                           mills chey 0\n",
       "475                        mills. cheryl 0\n",
       "480      mills cheryl d :miliscd@stategov>\n",
       "485      mills cheryl 0emillscd@state.gov>\n",
       "617                         mills.cheryl d\n",
       "621                          cheryl mills[\n",
       "630      h [mailto:hdr22@clintonemail.com]\n",
       "642                        cheryl.mills b6\n",
       "650                       eizenstat stuart\n",
       "670                         minyon moore .\n",
       "692                       0 mills cheryl d\n",
       "703                          cheryl.millsc\n",
       "720                       merten kenneth h\n",
       "738                        mills; cheryl d\n",
       "741                        cheryl mills b6\n",
       "743                            fareed zein\n",
       "765                       c — cheryl mills\n",
       "Name: Alias, dtype: object"
      ]
     },
     "metadata": {},
     "output_type": "display_data"
    },
    {
     "data": {
      "text/plain": [
       "86    Jake Sullivan\n",
       "Name: Name, dtype: object"
      ]
     },
     "metadata": {},
     "output_type": "display_data"
    },
    {
     "data": {
      "text/plain": [
       "170                      sullivan jj@state.gov\n",
       "171                           sullivan jacbo j\n",
       "172                              sullivan jack\n",
       "173                             sullivan jacob\n",
       "174                           sullivan jacob h\n",
       "175                           sullivan jacob j\n",
       "176                              sullivan jake\n",
       "177                            sullivan jake j\n",
       "178                       sullivanjj@state.gov\n",
       "179                             jake. sullivan\n",
       "180                              jake.sullivan\n",
       "181                             jake.sullivan@\n",
       "182                      sulllivanjj@state.gov\n",
       "183                       sullivanil@state.gov\n",
       "184                       sullivann@state.gov.\n",
       "424                           sullivan jacob 1\n",
       "429                            sullivan jacobi\n",
       "431    sullivan jacob .1 ‹sullivann@state.gov>\n",
       "432                           sullivan jacob i\n",
       "434             mcdonough denis r. (mailto: b6\n",
       "435                          sullivan jacob .1\n",
       "447                           sullivan jacob 3\n",
       "458                           sullivan jacob.)\n",
       "461    sullivan jacob .‹suilivan1j©st.ate.gov>\n",
       "479     sullivan jacob j esullivanii@stategov>\n",
       "492                            sullivan jacobj\n",
       "493                            jake sullivan _\n",
       "495                             stevens john c\n",
       "625                              jake sullivan\n",
       "678                             jake.sullivan(\n",
       "706                              jake sullivar\n",
       "731                          . sullivan jacobi\n",
       "785                          holbrooke richard\n",
       "796                           jake sullivan b6\n",
       "798                            sullivan jacob)\n",
       "804                           jake.sullivan b6\n",
       "815                            sullivan jacob1\n",
       "823                                 rina amiri\n",
       "837                            sullivan jacob.\n",
       "838                              scott gration\n",
       "Name: Alias, dtype: object"
      ]
     },
     "metadata": {},
     "output_type": "display_data"
    }
   ],
   "source": [
    "aliases = pd.read_csv('Hillary Clinton Datasets/Aliases.csv')\n",
    "senders = emails.loc[emails['MetadataTo'] == 'H']\n",
    "top_senders = senders['SenderPersonId'].value_counts().head(3)\n",
    "for sender in top_senders.index:\n",
    "    name = persons['Name'].loc[persons['Id'] == int(sender)]\n",
    "    alias = aliases['Alias'].loc[aliases['PersonId'] == int(sender)]\n",
    "    display(name, alias)"
   ]
  },
  {
   "cell_type": "markdown",
   "id": "f823fe32-19a1-4158-8392-b9be498577f7",
   "metadata": {},
   "source": [
    "To find the three people who sent Hillary Clinton the most emails, I counted the number of times each person's 'SenderPersonId' went to Hillary Clinton's name in the 'MetadataTo' column. I found that she goes by 'H', as her id matches the name 'H' in the 'MetadataFrom' column when she sends emails other people. I went through the data of the people who sent her emails, found the ids of the top 3 people and used them to find all aliases that matched their respective ids. The three people who email Hillary Clinton the most- in descending order- are Huma Abedin, Cheryl Mills, and Jake Sullivan. Their aliases are displayed underneath each of their names."
   ]
  },
  {
   "cell_type": "markdown",
   "id": "ed60ca04-ab04-4e04-930e-ecf01f736593",
   "metadata": {
    "tags": []
   },
   "source": [
    "### Q3: (2 points)\n",
    "How many email messages were exchanged each week? Use a visualization to show your results."
   ]
  },
  {
   "cell_type": "code",
   "execution_count": 173,
   "id": "663bb9f7-9ad4-489f-9df7-ab3a4b662bb3",
   "metadata": {
    "tags": []
   },
   "outputs": [
    {
     "data": {
      "text/plain": [
       "Text(0.5, 1.0, 'Emails Sent vs. Time')"
      ]
     },
     "execution_count": 173,
     "metadata": {},
     "output_type": "execute_result"
    },
    {
     "data": {
      "image/png": "[encoded data removed]",
      "text/plain": [
       "<Figure size 432x288 with 1 Axes>"
      ]
     },
     "metadata": {
      "needs_background": "light"
     },
     "output_type": "display_data"
    }
   ],
   "source": [
    "emails['when'] = pd.to_datetime(emails['MetadataDateSent'])\n",
    "\n",
    "emails_dateindex = emails.set_index('when')\n",
    "emails_dateindex['Id'].resample('1W').count().plot()\n",
    "\n",
    "plt.xlabel('Time')\n",
    "plt.ylabel('Emails Sent')\n",
    "plt.title('Emails Sent vs. Time')"
   ]
  },
  {
   "cell_type": "markdown",
   "id": "a5a5cd02-20c4-4e86-a5ad-b334d94a4187",
   "metadata": {},
   "source": [
    "In order to find the amount of emails that were sent each week, I first converted the 'MetadataDateSent' column to datetime format and made that the index of the dataframe. Then, I plotted a count of the number of emails that were sent each week on a line graph and properly labelled it. With this graph, we can determine that the most emails were sent in 2009 and  2010, with a small spike in late 2012."
   ]
  },
  {
   "cell_type": "markdown",
   "id": "ddbc7ad4-942d-43ab-9119-b469e1332a56",
   "metadata": {
    "tags": []
   },
   "source": [
    "### Q4: (2 points)\n",
    "How many times is Donald Trump mentioned in the emails?"
   ]
  },
  {
   "cell_type": "code",
   "execution_count": 174,
   "id": "a42a4fc2-3bd8-4696-b6d0-5cab65e7549d",
   "metadata": {},
   "outputs": [
    {
     "data": {
      "text/plain": [
       "1"
      ]
     },
     "execution_count": 174,
     "metadata": {},
     "output_type": "execute_result"
    }
   ],
   "source": [
    "pattern = r'[dD]onald [tT]rump'\n",
    "emails['RawText'].str.contains(pattern).sum()"
   ]
  },
  {
   "cell_type": "markdown",
   "id": "c9b9a806-1485-4a78-b499-d7cc28661679",
   "metadata": {},
   "source": [
    "To find the number of times that Donald Trump is mentioned in the emails, I looked for the amount of times that the words 'Donald Trump' appeared together within the 'RawText' column of the emails dataframe. Donald Trump was mentioned once within the emails."
   ]
  },
  {
   "cell_type": "markdown",
   "id": "faa3cd3d-10fc-4d6e-a2fc-d24059a108d0",
   "metadata": {
    "tags": []
   },
   "source": [
    "### Q5: (3 points)\n",
    "How many email messages contain references to Libya or Syria in their Subject lines? (Note that this encompasses \"Libya\", \"Libyan\", \"Syria\", \"Syrian\", and other cases where Libya or Syria is part of a string.)"
   ]
  },
  {
   "cell_type": "code",
   "execution_count": 175,
   "id": "38e59f99-f135-4406-b1ea-41c90daf6cba",
   "metadata": {},
   "outputs": [
    {
     "name": "stderr",
     "output_type": "stream",
     "text": [
      "C:\\Users\\thebe\\AppData\\Local\\Temp/ipykernel_15992/2460347477.py:2: UserWarning: This pattern has match groups. To actually get the groups, use str.extract.\n",
      "  emails['MetadataSubject'].str.lower().str.contains(pattern).sum()\n"
     ]
    },
    {
     "data": {
      "text/plain": [
       "108"
      ]
     },
     "execution_count": 175,
     "metadata": {},
     "output_type": "execute_result"
    }
   ],
   "source": [
    "pattern = r'syria(n)?|libya(n)?'\n",
    "emails['MetadataSubject'].str.lower().str.contains(pattern).sum()"
   ]
  },
  {
   "cell_type": "markdown",
   "id": "bf7d01d4-536c-42c8-8c47-5be18e1e9b15",
   "metadata": {},
   "source": [
    "To find any references to Libya, Libyan, Syria, or Syrian, I used a contains function to find when the words Syria and Libya would appear in a normalized version of the 'MetadataSubject' column. The subjects of these emails make reference to Libya or Syria 108 times."
   ]
  },
  {
   "cell_type": "markdown",
   "id": "b0e9156b-a9d0-4c93-a32b-f8e105ed0618",
   "metadata": {
    "tags": []
   },
   "source": [
    "### Q6: (4 points)\n",
    "Report the proportions of original emails, replies (signified by subject lines that start with \"Re:\"), and forwarded messages (signified by subject lines that start with \"Fw:\").  Note that you should deal with upper- and lower-case variants of those prefixes (e.g. \"RE:\" is also a valid reply signifier).  The total proportions should add up to 100%."
   ]
  },
  {
   "cell_type": "code",
   "execution_count": 176,
   "id": "7ae82573-926b-4d32-902f-7a714a6138ba",
   "metadata": {},
   "outputs": [
    {
     "data": {
      "text/plain": [
       "'Original emails: 48.04279421019509'"
      ]
     },
     "metadata": {},
     "output_type": "display_data"
    },
    {
     "data": {
      "text/plain": [
       "'Reply emails: 32.63687853996224'"
      ]
     },
     "metadata": {},
     "output_type": "display_data"
    },
    {
     "data": {
      "text/plain": [
       "'Forwarded emails: 19.320327249842666'"
      ]
     },
     "metadata": {},
     "output_type": "display_data"
    }
   ],
   "source": [
    "num_emails = len(emails)\n",
    "\n",
    "forwarded = emails.ExtractedSubject.str.lower().str.contains('^fw:').sum()\n",
    "replies = emails.ExtractedSubject.str.lower().str.contains('^re:').sum()\n",
    "\n",
    "original = num_emails - forwarded - replies\n",
    "\n",
    "original_prop = (original / num_emails) * 100\n",
    "re_prop = (replies / num_emails) * 100\n",
    "fw_prop = (forwarded / num_emails) * 100\n",
    "\n",
    "display('Original emails: ' + str(original_prop), 'Reply emails: ' + str(re_prop), 'Forwarded emails: ' + str(fw_prop))"
   ]
  },
  {
   "cell_type": "markdown",
   "id": "23acf0c2-9bf0-435e-b607-f033fd803cd2",
   "metadata": {},
   "source": [
    "To find the proportions of original emails, replies, and forwarded emails, I started by finding the length of the emails dataframe. Next, I found the amount of times that the phrases 'fw:' and 're:' appeared within the 'ExtractedSubject' column and put them into respective variables for forwardeded emails and replies. Then, to find the number of original emails, I subtracted both forwarded emails and replies from the number of total emails there were in the dataframe. Finally, I found the proportion of original, forwarded, and reply emails based on the amount of total emails in the dataframe. The proportion for original emails was about 48.04%, for reply emails was about 32.64%, and for forwarded emails was about 19.32%."
   ]
  },
  {
   "cell_type": "markdown",
   "id": "3b47cedf-b8b3-40cb-aa61-29b53e60f4d2",
   "metadata": {
    "tags": []
   },
   "source": [
    "### Q7: (8 points)\n",
    "How many email messages are about the election?  Note that you will first need to define your criteria for determining that an email message is \"about\" the election.  Be sure to include a markdown block explaining your reasoning."
   ]
  },
  {
   "cell_type": "code",
   "execution_count": 177,
   "id": "aeeefa9d-683d-4edb-9f09-f8cccf82c983",
   "metadata": {},
   "outputs": [
    {
     "data": {
      "text/plain": [
       "'119 emails were about the election'"
      ]
     },
     "metadata": {},
     "output_type": "display_data"
    }
   ],
   "source": [
    "election_emails = emails.ExtractedSubject.str.lower().str.contains('election|electoral|vote|win|lose|republican|democrat').sum()\n",
    "display(str(election_emails) + ' emails were about the election')"
   ]
  },
  {
   "cell_type": "markdown",
   "id": "d2420aa3-f141-40ac-b373-9a928207d3b7",
   "metadata": {},
   "source": [
    "In order to find the number of email messages that were about the election, I first determined what words would illustrate that any specific email was about the election. The words I determined to be about the election are as follows: election, electoral, vote, win, lose, republican, and democrat. After determining these words, I found that 119 emails pertained to the election."
   ]
  },
  {
   "cell_type": "markdown",
   "id": "b336c362-29ad-44d1-969a-42fe986f1f99",
   "metadata": {
    "tags": []
   },
   "source": [
    "### Q8: (9 points)\n",
    "Using only email messages sent by Hillary Clinton, determine the compound sentiment (as reported by the VADER sentiment intensity analyzer) for each one and create a boxplot for sentiment for each week.  In other words, your boxplot should have one \"box\" per week, with the x-axis being the week (date) and the y-axis showning the sentiment (with each box showing min, max, median, quartiles, and outliers)."
   ]
  },
  {
   "cell_type": "code",
   "execution_count": 178,
   "id": "cde7df85-07fe-4e2e-a887-82a920e04172",
   "metadata": {},
   "outputs": [
    {
     "name": "stderr",
     "output_type": "stream",
     "text": [
      "C:\\Users\\thebe\\AppData\\Local\\Temp/ipykernel_15992/967134161.py:5: SettingWithCopyWarning: \n",
      "A value is trying to be set on a copy of a slice from a DataFrame.\n",
      "Try using .loc[row_indexer,col_indexer] = value instead\n",
      "\n",
      "See the caveats in the documentation: https://pandas.pydata.org/pandas-docs/stable/user_guide/indexing.html#returning-a-view-versus-a-copy\n",
      "  h_emails['sent'] = h_emails['RawText'].apply(lambda text:sid.polarity_scores(str(text)))\n",
      "C:\\Users\\thebe\\AppData\\Local\\Temp/ipykernel_15992/967134161.py:6: SettingWithCopyWarning: \n",
      "A value is trying to be set on a copy of a slice from a DataFrame.\n",
      "Try using .loc[row_indexer,col_indexer] = value instead\n",
      "\n",
      "See the caveats in the documentation: https://pandas.pydata.org/pandas-docs/stable/user_guide/indexing.html#returning-a-view-versus-a-copy\n",
      "  h_emails['compound'] = h_emails['sent'].apply(lambda x: x['compound'])\n",
      "C:\\Users\\thebe\\anaconda3\\lib\\site-packages\\pandas\\core\\arrays\\datetimes.py:1143: UserWarning: Converting to PeriodArray/Index representation will drop timezone information.\n",
      "  warnings.warn(\n",
      "C:\\Users\\thebe\\AppData\\Local\\Temp/ipykernel_15992/967134161.py:12: FutureWarning: In a future version of pandas all arguments of DataFrame.drop except for the argument 'labels' will be keyword-only\n",
      "  weeklyh_emails = h_emails_dateindex.drop(['Id', 'SenderPersonId'], 1)\n"
     ]
    },
    {
     "data": {
      "image/png": "[encoded data removed]",
      "text/plain": [
       "<Figure size 2880x576 with 1 Axes>"
      ]
     },
     "metadata": {
      "needs_background": "light"
     },
     "output_type": "display_data"
    }
   ],
   "source": [
    "from nltk.sentiment.vader import SentimentIntensityAnalyzer\n",
    "sid = SentimentIntensityAnalyzer()\n",
    "\n",
    "h_emails = emails.loc[emails['MetadataFrom'] == 'H']\n",
    "h_emails['sent'] = h_emails['RawText'].apply(lambda text:sid.polarity_scores(str(text)))\n",
    "h_emails['compound'] = h_emails['sent'].apply(lambda x: x['compound'])\n",
    "h_emails = h_emails.drop('sent',axis=1)\n",
    "\n",
    "h_emails_dateindex = h_emails.set_index('when')\n",
    "h_emails_dateindex['week'] = h_emails_dateindex.index.to_period('W')\n",
    "\n",
    "weeklyh_emails = h_emails_dateindex.drop(['Id', 'SenderPersonId'], 1)\n",
    "weeklyh_emails.boxplot(by='week', figsize=(40, 8), rot=45)\n",
    "plt.ylabel('Compound Sentiment')\n",
    "plt.show()"
   ]
  },
  {
   "cell_type": "markdown",
   "id": "13ad74cd-4141-462a-80c4-35ab6d037065",
   "metadata": {},
   "source": [
    "To create boxplots of the compound sentiment of Hillary Clinton's emails each week, I started by locating all emails sent by her. Next, I found the polarity scores of the 'RawText' column for each of these emails and moved the compound sentiment score to its own column. Then, I set the index as the 'when' column, which was added in a previous question and added a new column that converted the index to weekly periods. Finally, I dropped a few unnecessary columns and created a boxplot of the data with proper labels. From this graph of boxplots, it is hard to make out a clear pattern from Hillary Clinton's emails, but we can determine that her emails contained a wide spectrum of different sentiment scores that varied from week to week."
   ]
  },
  {
   "cell_type": "markdown",
   "id": "e2309b6f-6b5c-4d02-b452-00565c147041",
   "metadata": {
    "tags": []
   },
   "source": [
    "### Q9: (8 points)\n",
    "Using Named Entity Recognition, extract PERSONs from the ExtractedBodyText field from Emails.csv for messages sent by Hillary Clinton. Report the top 10 most common PERSONs mentioned in the emails."
   ]
  },
  {
   "cell_type": "code",
   "execution_count": 179,
   "id": "3820a31c-3b2c-4a0c-8a7c-5c5c4c545333",
   "metadata": {},
   "outputs": [
    {
     "data": {
      "text/plain": [
       "Bill         21\n",
       "IN           17\n",
       "Pls          10\n",
       "Jack          9\n",
       "Jim           8\n",
       "Holbrooke     8\n",
       "Cheryl        7\n",
       "Tom           7\n",
       "Mike          7\n",
       "Jones         6\n",
       "Huma          6\n",
       "Hillary       6\n",
       "Shaun         6\n",
       "Dear          5\n",
       "Sorry         5\n",
       "Name: persons, dtype: int64"
      ]
     },
     "execution_count": 179,
     "metadata": {},
     "output_type": "execute_result"
    }
   ],
   "source": [
    "def find_person(sentence):\n",
    "    tokens = nltk.word_tokenize(sentence)\n",
    "    tagged = nltk.pos_tag(tokens)\n",
    "    entities = nltk.chunk.ne_chunk(tagged)\n",
    "    try:\n",
    "        for entity in entities.subtrees():\n",
    "            if entity.label() == \"PERSON\":\n",
    "                name = []\n",
    "                for leaf in entity.leaves():\n",
    "                    name.append(leaf[0])\n",
    "                return (\" \".join(name))\n",
    "    except:\n",
    "        return \"\"\n",
    "h_emails['persons'] = h_emails['ExtractedBodyText'].apply(lambda text:find_person(str(text)))\n",
    "h_emails.persons.value_counts()[0:15]"
   ]
  },
  {
   "cell_type": "markdown",
   "id": "a507cc6c-6901-4d6d-82da-815019e3cc8d",
   "metadata": {},
   "source": [
    "To find the ten most common 'PERSONs' mentioned in the emails, I used a function presented in class that would tokenize, tag, and chunk the entities in each cell of the 'ExtractedBodyText' column and then determine if the entity could be deemed as a 'PERSON.' Then, I counted the amount of times each name shows up in the 'persons' column that I created. The ten most common 'PERSONs' mentioned in the emails are as follows: Bill, Jack, Jim, Holbrooke, Cheryl, Tom, Mike, Jones, Huma, and Hillary. I decided to not acknowledge a few of the top names that were identified as 'PERSONs,' as I did not believe they were names at all. These include entries such as 'IN' and 'Pls,' among the top 10 most commonly mentioned names. I tried to use the data from the 'RawText' column and was unable to determine people from those columns with these methods. "
   ]
  },
  {
   "cell_type": "markdown",
   "id": "4d4e171a-eda0-4d51-adc7-8ab1a1e05d0b",
   "metadata": {},
   "source": [
    "____"
   ]
  }
 ],
 "metadata": {
  "kernelspec": {
   "display_name": "Python 3 (ipykernel)",
   "language": "python",
   "name": "python3"
  },
  "language_info": {
   "codemirror_mode": {
    "name": "ipython",
    "version": 3
   },
   "file_extension": ".py",
   "mimetype": "text/x-python",
   "name": "python",
   "nbconvert_exporter": "python",
   "pygments_lexer": "ipython3",
   "version": "3.8.11"
  }
 },
 "nbformat": 4,
 "nbformat_minor": 5
}
